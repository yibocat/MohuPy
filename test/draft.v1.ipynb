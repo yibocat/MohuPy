{
 "cells": [
  {
   "cell_type": "code",
   "id": "initial_id",
   "metadata": {
    "collapsed": true,
    "ExecuteTime": {
     "end_time": "2025-07-27T14:19:08.376220Z",
     "start_time": "2025-07-27T14:19:08.096213Z"
    }
   },
   "source": [
    "import time\n",
    "\n",
    "from mohupy_.core.fuzznums import Fuzznum\n",
    "from mohupy_.core.executor import Executor"
   ],
   "outputs": [],
   "execution_count": 1
  },
  {
   "metadata": {
    "ExecuteTime": {
     "end_time": "2025-07-27T14:19:08.784844Z",
     "start_time": "2025-07-27T14:19:08.781492Z"
    }
   },
   "cell_type": "code",
   "source": "op = Executor()",
   "id": "83b959a0d8c8b155",
   "outputs": [],
   "execution_count": 2
  },
  {
   "metadata": {
    "ExecuteTime": {
     "end_time": "2025-07-27T14:19:08.971101Z",
     "start_time": "2025-07-27T14:19:08.964196Z"
    }
   },
   "cell_type": "code",
   "source": [
    "x1 = Fuzznum('qrofn').create(q=2, md=0.2, nmd=0.5)\n",
    "x2 = Fuzznum('qrofn').create(q=2, md=0.3, nmd=0.1)"
   ],
   "id": "24931986e355781e",
   "outputs": [],
   "execution_count": 3
  },
  {
   "metadata": {
    "ExecuteTime": {
     "end_time": "2025-07-27T14:19:09.189630Z",
     "start_time": "2025-07-27T14:19:09.182008Z"
    }
   },
   "cell_type": "code",
   "source": "x1",
   "id": "d848ec2fbe30eae5",
   "outputs": [
    {
     "data": {
      "text/plain": [
       "Fuzznum(q=2, md=0.2, nmd=0.5\n",
       " mtype='qrofn\n",
       " id=4416948304\n",
       " is_valid=True\n",
       " status='initialized'\n",
       " creation_time=20250727221908.97\n",
       " strategy=QROFNStrategy\n",
       " template=QROFNTemplate)"
      ]
     },
     "execution_count": 4,
     "metadata": {},
     "output_type": "execute_result"
    }
   ],
   "execution_count": 4
  },
  {
   "metadata": {
    "ExecuteTime": {
     "end_time": "2025-07-27T14:19:09.399790Z",
     "start_time": "2025-07-27T14:19:09.398197Z"
    }
   },
   "cell_type": "code",
   "source": "",
   "id": "6bd73c0faa004fac",
   "outputs": [],
   "execution_count": null
  },
  {
   "metadata": {
    "ExecuteTime": {
     "end_time": "2025-07-27T14:19:09.903109Z",
     "start_time": "2025-07-27T14:19:09.893915Z"
    }
   },
   "cell_type": "code",
   "source": "op.addition(x1,x2)",
   "id": "83404c98acd8b7b0",
   "outputs": [
    {
     "data": {
      "text/plain": [
       "Fuzznum(q=2, md=np.float64(0.3555277766926235), nmd=np.float64(0.05)\n",
       " mtype='qrofn\n",
       " id=4416956320\n",
       " is_valid=True\n",
       " status='initialized'\n",
       " creation_time=20250727221909.9\n",
       " strategy=QROFNStrategy\n",
       " template=QROFNTemplate)"
      ]
     },
     "execution_count": 5,
     "metadata": {},
     "output_type": "execute_result"
    }
   ],
   "execution_count": 5
  },
  {
   "metadata": {
    "ExecuteTime": {
     "end_time": "2025-07-27T14:19:10.316316Z",
     "start_time": "2025-07-27T14:19:10.308104Z"
    }
   },
   "cell_type": "code",
   "source": "op.multiply(x1, x2)",
   "id": "ca11c075a3c82635",
   "outputs": [
    {
     "data": {
      "text/plain": [
       "Fuzznum(q=2, md=np.float64(0.06), nmd=np.float64(0.507444578254611)\n",
       " mtype='qrofn\n",
       " id=4416959632\n",
       " is_valid=True\n",
       " status='initialized'\n",
       " creation_time=20250727221910.312\n",
       " strategy=QROFNStrategy\n",
       " template=QROFNTemplate)"
      ]
     },
     "execution_count": 6,
     "metadata": {},
     "output_type": "execute_result"
    }
   ],
   "execution_count": 6
  },
  {
   "metadata": {},
   "cell_type": "code",
   "source": "op.get_performance_stats()",
   "id": "ac8b9012f7527657",
   "outputs": [],
   "execution_count": null
  },
  {
   "metadata": {},
   "cell_type": "code",
   "source": "",
   "id": "e4259ccaa7563361",
   "outputs": [],
   "execution_count": null
  },
  {
   "metadata": {},
   "cell_type": "code",
   "source": "",
   "id": "f7fa20434bc44f15",
   "outputs": [],
   "execution_count": null
  },
  {
   "metadata": {},
   "cell_type": "code",
   "source": "",
   "id": "46e08d8912cff5ae",
   "outputs": [],
   "execution_count": null
  },
  {
   "metadata": {},
   "cell_type": "code",
   "source": "",
   "id": "3d237c50ba650a72",
   "outputs": [],
   "execution_count": null
  },
  {
   "metadata": {},
   "cell_type": "code",
   "source": "",
   "id": "fa7c3fcbdb09f3c0",
   "outputs": [],
   "execution_count": null
  }
 ],
 "metadata": {
  "kernelspec": {
   "display_name": "Python 3",
   "language": "python",
   "name": "python3"
  },
  "language_info": {
   "codemirror_mode": {
    "name": "ipython",
    "version": 2
   },
   "file_extension": ".py",
   "mimetype": "text/x-python",
   "name": "python",
   "nbconvert_exporter": "python",
   "pygments_lexer": "ipython2",
   "version": "2.7.6"
  }
 },
 "nbformat": 4,
 "nbformat_minor": 5
}
