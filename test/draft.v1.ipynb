{
 "cells": [
  {
   "cell_type": "code",
   "id": "initial_id",
   "metadata": {
    "collapsed": true,
    "ExecuteTime": {
     "end_time": "2025-07-28T16:38:48.629859Z",
     "start_time": "2025-07-28T16:38:48.261650Z"
    }
   },
   "source": [
    "import time\n",
    "\n",
    "from mohupy_.core.fuzznums import Fuzznum\n",
    "from mohupy_.core.executor import Executor"
   ],
   "outputs": [],
   "execution_count": 1
  },
  {
   "metadata": {
    "ExecuteTime": {
     "end_time": "2025-07-28T16:38:49.044858Z",
     "start_time": "2025-07-28T16:38:49.042440Z"
    }
   },
   "cell_type": "code",
   "source": "op = Executor()",
   "id": "83b959a0d8c8b155",
   "outputs": [],
   "execution_count": 2
  },
  {
   "metadata": {
    "ExecuteTime": {
     "end_time": "2025-07-28T16:38:49.380177Z",
     "start_time": "2025-07-28T16:38:49.374643Z"
    }
   },
   "cell_type": "code",
   "source": [
    "x1 = Fuzznum('qrofn').create(q=6, md=0.2, nmd=0.5)\n",
    "x2 = Fuzznum('qrofn').create(q=6, md=0.3, nmd=0.1)"
   ],
   "id": "24931986e355781e",
   "outputs": [],
   "execution_count": 3
  },
  {
   "metadata": {
    "ExecuteTime": {
     "end_time": "2025-07-28T16:38:49.760542Z",
     "start_time": "2025-07-28T16:38:49.754203Z"
    }
   },
   "cell_type": "code",
   "source": "op.addition(x1,x2)",
   "id": "d848ec2fbe30eae5",
   "outputs": [
    {
     "data": {
      "text/plain": [
       "Fuzznum(q=6, md=np.float64(0.30423413427423435), nmd=np.float64(0.05000000000000001)\n",
       " mtype='qrofn'\n",
       " id=4393167232\n",
       " is_valid=True\n",
       " status=initialized\n",
       " creation_time=20250729003849.754\n",
       " strategy=QROFNStrategy\n",
       " template=QROFNTemplate)"
      ]
     },
     "execution_count": 4,
     "metadata": {},
     "output_type": "execute_result"
    }
   ],
   "execution_count": 4
  },
  {
   "metadata": {
    "ExecuteTime": {
     "end_time": "2025-07-28T16:38:50.895641Z",
     "start_time": "2025-07-28T16:38:50.887720Z"
    }
   },
   "cell_type": "code",
   "source": "op.multiply(x1,x2)",
   "id": "5b7b88a456c1549f",
   "outputs": [
    {
     "data": {
      "text/plain": [
       "Fuzznum(q=6, md=np.float64(0.060000000000000026), nmd=np.float64(0.5000052498621909)\n",
       " mtype='qrofn'\n",
       " id=4393169728\n",
       " is_valid=True\n",
       " status=initialized\n",
       " creation_time=20250729003850.89\n",
       " strategy=QROFNStrategy\n",
       " template=QROFNTemplate)"
      ]
     },
     "execution_count": 5,
     "metadata": {},
     "output_type": "execute_result"
    }
   ],
   "execution_count": 5
  },
  {
   "metadata": {
    "ExecuteTime": {
     "end_time": "2025-07-28T16:38:52.512163Z",
     "start_time": "2025-07-28T16:38:52.504135Z"
    }
   },
   "cell_type": "code",
   "source": "op.times(x1, 5)",
   "id": "452c318d0189bd96",
   "outputs": [
    {
     "data": {
      "text/plain": [
       "Fuzznum(q=6, md=np.float64(0.261526517910253), nmd=np.float64(0.031250000000000014)\n",
       " mtype='qrofn'\n",
       " id=4393166320\n",
       " is_valid=True\n",
       " status=initialized\n",
       " creation_time=20250729003852.508\n",
       " strategy=QROFNStrategy\n",
       " template=QROFNTemplate)"
      ]
     },
     "execution_count": 6,
     "metadata": {},
     "output_type": "execute_result"
    }
   ],
   "execution_count": 6
  },
  {
   "metadata": {
    "ExecuteTime": {
     "end_time": "2025-07-28T16:38:54.029684Z",
     "start_time": "2025-07-28T16:38:54.020298Z"
    }
   },
   "cell_type": "code",
   "source": "op.power(x1, -5)",
   "id": "50d7a177b7d49e55",
   "outputs": [
    {
     "data": {
      "text/plain": [
       "Fuzznum(q=6, md=0.0, nmd=1.0\n",
       " mtype='qrofn'\n",
       " id=4393164496\n",
       " is_valid=True\n",
       " status=initialized\n",
       " creation_time=20250729003854.023\n",
       " strategy=QROFNStrategy\n",
       " template=QROFNTemplate)"
      ]
     },
     "execution_count": 7,
     "metadata": {},
     "output_type": "execute_result"
    }
   ],
   "execution_count": 7
  },
  {
   "metadata": {
    "ExecuteTime": {
     "end_time": "2025-07-28T16:38:55.219847Z",
     "start_time": "2025-07-28T16:38:55.216210Z"
    }
   },
   "cell_type": "code",
   "source": "op.get_performance_stats()",
   "id": "83404c98acd8b7b0",
   "outputs": [
    {
     "data": {
      "text/plain": [
       "{'t_norm_type': 'algebraic',\n",
       " 'creation_time': 4146.948244,\n",
       " 'age_seconds': 6.174277957999948,\n",
       " 'execution_stats': {'total_operations': 4,\n",
       "  'successful_operations': 4,\n",
       "  'failed_operations': 0,\n",
       "  'total_execution_time': 0.004810292999536614,\n",
       "  'avg_execution_time': 0.0012025732498841535,\n",
       "  'operation_counts': {'add': 1, 'mul': 1, 'tim': 1, 'pow': 1}},\n",
       " 'cache_stats': {'hits': 0,\n",
       "  'misses': 4,\n",
       "  'total_requests': 4,\n",
       "  'hit_ratio': 0.0},\n",
       " 'validation_stats': {'total_validations': 6,\n",
       "  'failed_validations': 0,\n",
       "  'validation_errors': []}}"
      ]
     },
     "execution_count": 8,
     "metadata": {},
     "output_type": "execute_result"
    }
   ],
   "execution_count": 8
  },
  {
   "metadata": {},
   "cell_type": "code",
   "source": "",
   "id": "ca11c075a3c82635",
   "outputs": [],
   "execution_count": null
  },
  {
   "metadata": {},
   "cell_type": "code",
   "source": "",
   "id": "ac8b9012f7527657",
   "outputs": [],
   "execution_count": null
  },
  {
   "metadata": {},
   "cell_type": "code",
   "source": "",
   "id": "e4259ccaa7563361",
   "outputs": [],
   "execution_count": null
  },
  {
   "metadata": {},
   "cell_type": "code",
   "source": "",
   "id": "f7fa20434bc44f15",
   "outputs": [],
   "execution_count": null
  },
  {
   "metadata": {},
   "cell_type": "code",
   "source": "",
   "id": "46e08d8912cff5ae",
   "outputs": [],
   "execution_count": null
  },
  {
   "metadata": {},
   "cell_type": "code",
   "source": "",
   "id": "3d237c50ba650a72",
   "outputs": [],
   "execution_count": null
  },
  {
   "metadata": {},
   "cell_type": "code",
   "source": "",
   "id": "fa7c3fcbdb09f3c0",
   "outputs": [],
   "execution_count": null
  }
 ],
 "metadata": {
  "kernelspec": {
   "display_name": "Python 3",
   "language": "python",
   "name": "python3"
  },
  "language_info": {
   "codemirror_mode": {
    "name": "ipython",
    "version": 2
   },
   "file_extension": ".py",
   "mimetype": "text/x-python",
   "name": "python",
   "nbconvert_exporter": "python",
   "pygments_lexer": "ipython2",
   "version": "2.7.6"
  }
 },
 "nbformat": 4,
 "nbformat_minor": 5
}
