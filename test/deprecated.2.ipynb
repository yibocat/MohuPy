{
 "cells": [
  {
   "cell_type": "code",
   "source": [
    "import numpy as np\n",
    "import mohupy as mp\n",
    "from mohupy.core.operation import add,sub,mul,div,pow,matmul,equal,inequal,lt,gt,le,ge"
   ],
   "metadata": {
    "collapsed": false,
    "ExecuteTime": {
     "end_time": "2025-07-08T03:42:02.187856Z",
     "start_time": "2025-07-08T03:42:01.594277Z"
    }
   },
   "outputs": [],
   "execution_count": 1
  },
  {
   "cell_type": "code",
   "source": [
    "n1 = np.random.rand()               # 数\n",
    "n2 = np.random.rand(2,3)            # 数集合\n",
    "n3 = np.array(n1)                   # 数向量\n",
    "n4 = np.random.rand(1,)             # 数集合 2\n",
    "\n",
    "\n",
    "t1 = mp.rand_fuzz(qrung=3)         # 模糊数\n",
    "t2 = mp.rand_fuzz(2,3,qrung=3)    # 模糊集合\n",
    "t3 = mp.asfuzzarray(t1)                 # 模糊向量\n",
    "t4 = mp.rand_fuzz(1, qrung=3)    # 模糊集合 2"
   ],
   "metadata": {
    "collapsed": false,
    "ExecuteTime": {
     "end_time": "2025-07-08T03:42:02.599740Z",
     "start_time": "2025-07-08T03:42:02.588704Z"
    }
   },
   "outputs": [],
   "execution_count": 2
  },
  {
   "cell_type": "markdown",
   "source": [
    "# 加法"
   ],
   "metadata": {
    "collapsed": false
   }
  },
  {
   "cell_type": "code",
   "source": [
    "print(add(t1, t1))\n",
    "print(add(t1, t2))\n",
    "print(add(t1, t3))\n",
    "print(add(t1, t4))"
   ],
   "metadata": {
    "collapsed": false,
    "ExecuteTime": {
     "end_time": "2025-07-08T03:42:03.747984Z",
     "start_time": "2025-07-08T03:42:03.744319Z"
    }
   },
   "outputs": [
    {
     "name": "stdout",
     "output_type": "stream",
     "text": [
      "<0.4302,0.4793>\n",
      "[[<0.8476,0.0757> <0.3438,0.5387> <0.5037,0.2156>]\n",
      " [<0.9182,0.0717> <0.6388,0.1755> <0.3946,0.2961>]]\n",
      "<0.4302,0.4793>\n",
      "[<0.3438,0.2989>]\n"
     ]
    }
   ],
   "execution_count": 3
  },
  {
   "cell_type": "code",
   "source": [
    "print(add(t2, t1))\n",
    "print(add(t2, t2))\n",
    "print(add(t2, t3))\n",
    "print(add(t2, t4))"
   ],
   "metadata": {
    "collapsed": false,
    "ExecuteTime": {
     "end_time": "2025-07-08T03:42:04.275756Z",
     "start_time": "2025-07-08T03:42:04.271416Z"
    }
   },
   "outputs": [
    {
     "name": "stdout",
     "output_type": "stream",
     "text": [
      "[[<0.8476,0.0757> <0.3438,0.5387> <0.5037,0.2156>]\n",
      " [<0.9182,0.0717> <0.6388,0.1755> <0.3946,0.2961>]]\n",
      "[[<0.9412,0.012> <0.0072,0.6054> <0.5576,0.097>]\n",
      " [<0.9812,0.0107> <0.7405,0.0642> <0.35,0.183>]]\n",
      "[[<0.8476,0.0757> <0.3438,0.5387> <0.5037,0.2156>]\n",
      " [<0.9182,0.0717> <0.6388,0.1755> <0.3946,0.2961>]]\n",
      "[[<0.8398,0.0472> <0.0157,0.3359> <0.4495,0.1344>]\n",
      " [<0.9144,0.0447> <0.6121,0.1094> <0.2789,0.1846>]]\n"
     ]
    }
   ],
   "execution_count": 4
  },
  {
   "cell_type": "code",
   "source": [
    "print(add(t3, t1))\n",
    "print(add(t3, t2))\n",
    "print(add(t3, t3))\n",
    "print(add(t3, t4))"
   ],
   "metadata": {
    "collapsed": false,
    "ExecuteTime": {
     "end_time": "2025-07-08T03:42:04.742458Z",
     "start_time": "2025-07-08T03:42:04.739120Z"
    }
   },
   "outputs": [
    {
     "name": "stdout",
     "output_type": "stream",
     "text": [
      "<0.4302,0.4793>\n",
      "[[<0.8476,0.0757> <0.3438,0.5387> <0.5037,0.2156>]\n",
      " [<0.9182,0.0717> <0.6388,0.1755> <0.3946,0.2961>]]\n",
      "<0.4302,0.4793>\n",
      "[<0.3438,0.2989>]\n"
     ]
    }
   ],
   "execution_count": 5
  },
  {
   "cell_type": "code",
   "source": [
    "print(add(t4, t1))\n",
    "print(add(t4, t2))\n",
    "print(add(t4, t3))\n",
    "print(add(t4, t4))"
   ],
   "metadata": {
    "collapsed": false,
    "ExecuteTime": {
     "end_time": "2025-07-08T03:42:05.238959Z",
     "start_time": "2025-07-08T03:42:05.235821Z"
    }
   },
   "outputs": [
    {
     "name": "stdout",
     "output_type": "stream",
     "text": [
      "[<0.3438,0.2989>]\n",
      "[[<0.8398,0.0472> <0.0157,0.3359> <0.4495,0.1344>]\n",
      " [<0.9144,0.0447> <0.6121,0.1094> <0.2789,0.1846>]]\n",
      "[<0.3438,0.2989>]\n",
      "[<0.0195,0.1863>]\n"
     ]
    }
   ],
   "execution_count": 6
  },
  {
   "cell_type": "markdown",
   "source": [
    "# 减法"
   ],
   "metadata": {
    "collapsed": false
   }
  },
  {
   "cell_type": "code",
   "source": [
    "print(sub(t1, t1))\n",
    "print(sub(t1, t2))\n",
    "print(sub(t1, t3))\n",
    "print(sub(t1, t4))"
   ],
   "metadata": {
    "collapsed": false,
    "ExecuteTime": {
     "end_time": "2025-07-08T03:42:06.243503Z",
     "start_time": "2025-07-08T03:42:06.240974Z"
    }
   },
   "outputs": [
    {
     "name": "stdout",
     "output_type": "stream",
     "text": [
      "<0.0,1.0>\n",
      "[[<0.0,1.0> <0.3438,0.8898> <0.0,1.0>]\n",
      " [<0.0,1.0> <0.0,1.0> <0.0,1.0>]]\n",
      "<0.0,1.0>\n",
      "[<0.0,1.0>]\n"
     ]
    }
   ],
   "execution_count": 7
  },
  {
   "cell_type": "code",
   "source": [
    "print(sub(t2, t1))\n",
    "print(sub(t2, t2))\n",
    "print(sub(t2, t3))\n",
    "print(sub(t2, t4))"
   ],
   "metadata": {
    "collapsed": false,
    "ExecuteTime": {
     "end_time": "2025-07-08T03:42:06.663370Z",
     "start_time": "2025-07-08T03:42:06.659664Z"
    }
   },
   "outputs": [
    {
     "name": "stdout",
     "output_type": "stream",
     "text": [
      "[[<0.8316,0.1579> <0.0,1.0> <0.374,0.4499>]\n",
      " [<0.9105,0.1496> <0.5816,0.3661> <0.0,1.0>]]\n",
      "[[<0.0,1.0> <0.0,1.0> <0.0,1.0>]\n",
      " [<0.0,1.0> <0.0,1.0> <0.0,1.0>]]\n",
      "[[<0.8316,0.1579> <0.0,1.0> <0.374,0.4499>]\n",
      " [<0.9105,0.1496> <0.5816,0.3661> <0.0,1.0>]]\n",
      "[[<0.8398,0.2533> <0.0,1.0> <0.4495,0.7215>]\n",
      " [<0.9144,0.24> <0.6121,0.5871> <0.2788,0.9909>]]\n"
     ]
    }
   ],
   "execution_count": 8
  },
  {
   "cell_type": "code",
   "source": [
    "print(sub(t3, t1))\n",
    "print(sub(t3, t2))\n",
    "print(sub(t3, t3))\n",
    "print(sub(t3, t4))"
   ],
   "metadata": {
    "collapsed": false,
    "ExecuteTime": {
     "end_time": "2025-07-08T03:42:07.234915Z",
     "start_time": "2025-07-08T03:42:07.231733Z"
    }
   },
   "outputs": [
    {
     "name": "stdout",
     "output_type": "stream",
     "text": [
      "<0.0,1.0>\n",
      "[[<0.0,1.0> <0.3438,0.8898> <0.0,1.0>]\n",
      " [<0.0,1.0> <0.0,1.0> <0.0,1.0>]]\n",
      "<0.0,1.0>\n",
      "[<0.0,1.0>]\n"
     ]
    }
   ],
   "execution_count": 9
  },
  {
   "cell_type": "code",
   "source": [
    "print(sub(t4, t1))\n",
    "print(sub(t4, t2))\n",
    "print(sub(t4, t3))\n",
    "print(sub(t4, t4))"
   ],
   "metadata": {
    "collapsed": false,
    "ExecuteTime": {
     "end_time": "2025-07-08T03:42:07.746750Z",
     "start_time": "2025-07-08T03:42:07.743322Z"
    }
   },
   "outputs": [
    {
     "name": "stdout",
     "output_type": "stream",
     "text": [
      "[<0.0,1.0>]\n",
      "[[<0.0,1.0> <0.0152,0.5548> <0.0,1.0>]\n",
      " [<0.0,1.0> <0.0,1.0> <0.0,1.0>]]\n",
      "[<0.0,1.0>]\n",
      "[<0.0,1.0>]\n"
     ]
    }
   ],
   "execution_count": 10
  },
  {
   "cell_type": "markdown",
   "source": [
    "# 乘法"
   ],
   "metadata": {
    "collapsed": false
   }
  },
  {
   "cell_type": "code",
   "source": [
    "print(mul(n1, t1))\n",
    "print(mul(n1, t2))\n",
    "print(mul(n1, t3))\n",
    "print(mul(n1, t4))"
   ],
   "metadata": {
    "collapsed": false,
    "ExecuteTime": {
     "end_time": "2025-07-08T03:42:08.766477Z",
     "start_time": "2025-07-08T03:42:08.763673Z"
    }
   },
   "outputs": [
    {
     "name": "stdout",
     "output_type": "stream",
     "text": [
      "<0.2167,0.9133>\n",
      "[[<0.5834,0.5793> <0.0036,0.94> <0.2853,0.75>]\n",
      " [<0.6695,0.5717> <0.3963,0.7128> <0.1754,0.811>]]\n",
      "<0.2167,0.9133>\n",
      "[<0.0097,0.8128>]\n"
     ]
    }
   ],
   "execution_count": 11
  },
  {
   "cell_type": "code",
   "source": [
    "print(mul(n2, t1))\n",
    "print(mul(n2, t2))\n",
    "print(mul(n2, t3))\n",
    "print(mul(n2, t4))"
   ],
   "metadata": {
    "collapsed": false,
    "ExecuteTime": {
     "end_time": "2025-07-08T03:42:09.206184Z",
     "start_time": "2025-07-08T03:42:09.202494Z"
    }
   },
   "outputs": [
    {
     "name": "stdout",
     "output_type": "stream",
     "text": [
      "[[<0.2931,0.7977> <0.2639,0.8484> <0.274,0.8317>]\n",
      " [<0.1299,0.9807> <0.159,0.9649> <0.241,0.8825>]]\n",
      "[[<0.7512,0.2564> <0.0044,0.8939> <0.3599,0.5573>]\n",
      " [<0.4192,0.887> <0.2923,0.8752> <0.1951,0.7492>]]\n",
      "[[<0.2931,0.7977> <0.2639,0.8484> <0.274,0.8317>]\n",
      " [<0.1299,0.9807> <0.159,0.9649> <0.241,0.8825>]]\n",
      "[[<0.0132,0.5966> <0.0118,0.6868> <0.0123,0.6564>]\n",
      " [<0.0058,0.9565> <0.0071,0.9217> <0.0108,0.7515>]]\n"
     ]
    }
   ],
   "execution_count": 12
  },
  {
   "cell_type": "code",
   "source": [
    "print(mul(n3, t1))\n",
    "print(mul(n3, t2))\n",
    "print(mul(n3, t3))\n",
    "print(mul(n3, t4))"
   ],
   "metadata": {
    "collapsed": false,
    "ExecuteTime": {
     "end_time": "2025-07-08T03:42:09.698621Z",
     "start_time": "2025-07-08T03:42:09.695547Z"
    }
   },
   "outputs": [
    {
     "name": "stdout",
     "output_type": "stream",
     "text": [
      "<0.2167,0.9133>\n",
      "[[<0.5834,0.5793> <0.0036,0.94> <0.2853,0.75>]\n",
      " [<0.6695,0.5717> <0.3963,0.7128> <0.1754,0.811>]]\n",
      "<0.2167,0.9133>\n",
      "[<0.0097,0.8128>]\n"
     ]
    }
   ],
   "execution_count": 13
  },
  {
   "cell_type": "code",
   "source": [
    "print(mul(n4, t1))\n",
    "print(mul(n4, t2))\n",
    "print(mul(n4, t3))\n",
    "print(mul(n4, t4))"
   ],
   "metadata": {
    "collapsed": false,
    "ExecuteTime": {
     "end_time": "2025-07-08T03:42:10.158047Z",
     "start_time": "2025-07-08T03:42:10.155014Z"
    }
   },
   "outputs": [
    {
     "name": "stdout",
     "output_type": "stream",
     "text": [
      "[<0.3358,0.7103>]\n",
      "[[<0.8272,0.1275> <0.0056,0.7917> <0.4393,0.3378>]\n",
      " [<0.9044,0.1213> <0.5993,0.2788> <0.2723,0.4538>]]\n",
      "[<0.3358,0.7103>]\n",
      "[<0.0151,0.4576>]\n"
     ]
    }
   ],
   "execution_count": 14
  },
  {
   "cell_type": "code",
   "source": [
    "print(mul(t1, t1))\n",
    "print(mul(t1, t2))\n",
    "print(mul(t1, t3))\n",
    "print(mul(t1, t4))"
   ],
   "metadata": {
    "collapsed": false,
    "ExecuteTime": {
     "end_time": "2025-07-08T03:42:10.639415Z",
     "start_time": "2025-07-08T03:42:10.636315Z"
    }
   },
   "outputs": [
    {
     "name": "stdout",
     "output_type": "stream",
     "text": [
      "<0.1182,0.8211>\n",
      "[[<0.2887,0.6929> <0.002,0.8647> <0.1545,0.7061>]\n",
      " [<0.3144,0.6929> <0.2104,0.6998> <0.0959,0.7269>]]\n",
      "<0.1182,0.8211>\n",
      "[<0.0053,0.7279>]\n"
     ]
    }
   ],
   "execution_count": 15
  },
  {
   "cell_type": "code",
   "source": [
    "print(mul(t2, t1))\n",
    "print(mul(t2, t2))\n",
    "print(mul(t2, t3))\n",
    "print(mul(t2, t4))"
   ],
   "metadata": {
    "collapsed": false,
    "ExecuteTime": {
     "end_time": "2025-07-08T03:42:11.088302Z",
     "start_time": "2025-07-08T03:42:11.084712Z"
    }
   },
   "outputs": [
    {
     "name": "stdout",
     "output_type": "stream",
     "text": [
      "[[<0.2887,0.6929> <0.002,0.8647> <0.1545,0.7061>]\n",
      " [<0.3144,0.6929> <0.2104,0.6998> <0.0959,0.7269>]]\n",
      "[[<0.7053,0.1377> <0.0,0.8964> <0.2021,0.3904>]\n",
      " [<0.8362,0.1305> <0.3747,0.3184> <0.0778,0.5318>]]\n",
      "[[<0.2887,0.6929> <0.002,0.8647> <0.1545,0.7061>]\n",
      " [<0.3144,0.6929> <0.2104,0.6998> <0.0959,0.7269>]]\n",
      "[[<0.013,0.4338> <0.0001,0.8008> <0.007,0.4765>]\n",
      " [<0.0142,0.4335> <0.0095,0.4569> <0.0043,0.5342>]]\n"
     ]
    }
   ],
   "execution_count": 16
  },
  {
   "cell_type": "code",
   "source": [
    "print(mul(t3, t1))\n",
    "print(mul(t3, t2))\n",
    "print(mul(t3, t3))\n",
    "print(mul(t3, t4))"
   ],
   "metadata": {
    "collapsed": false,
    "ExecuteTime": {
     "end_time": "2025-07-08T03:42:11.552369Z",
     "start_time": "2025-07-08T03:42:11.549252Z"
    }
   },
   "outputs": [
    {
     "name": "stdout",
     "output_type": "stream",
     "text": [
      "<0.1182,0.8211>\n",
      "[[<0.2887,0.6929> <0.002,0.8647> <0.1545,0.7061>]\n",
      " [<0.3144,0.6929> <0.2104,0.6998> <0.0959,0.7269>]]\n",
      "<0.1182,0.8211>\n",
      "[<0.0053,0.7279>]\n"
     ]
    }
   ],
   "execution_count": 17
  },
  {
   "cell_type": "code",
   "source": [
    "print(mul(t4, t1))\n",
    "print(mul(t4, t2))\n",
    "print(mul(t4, t3))\n",
    "print(mul(t4, t4))"
   ],
   "metadata": {
    "collapsed": false,
    "ExecuteTime": {
     "end_time": "2025-07-08T03:42:12.341429Z",
     "start_time": "2025-07-08T03:42:12.337693Z"
    }
   },
   "outputs": [
    {
     "name": "stdout",
     "output_type": "stream",
     "text": [
      "[<0.0053,0.7279>]\n",
      "[[<0.013,0.4338> <0.0001,0.8008> <0.007,0.4765>]\n",
      " [<0.0142,0.4335> <0.0095,0.4569> <0.0043,0.5342>]]\n",
      "[<0.0053,0.7279>]\n",
      "[<0.0002,0.5365>]\n"
     ]
    }
   ],
   "execution_count": 18
  },
  {
   "cell_type": "code",
   "source": [
    "print(mul(t1, n1))\n",
    "print(mul(t1, n2))\n",
    "print(mul(t1, n3))\n",
    "print(mul(t1, n4))"
   ],
   "metadata": {
    "collapsed": false,
    "ExecuteTime": {
     "end_time": "2025-07-08T03:42:12.943607Z",
     "start_time": "2025-07-08T03:42:12.940432Z"
    }
   },
   "outputs": [
    {
     "name": "stdout",
     "output_type": "stream",
     "text": [
      "<0.2167,0.9133>\n",
      "[[<0.2931,0.7977> <0.2639,0.8484> <0.274,0.8317>]\n",
      " [<0.1299,0.9807> <0.159,0.9649> <0.241,0.8825>]]\n",
      "<0.2167,0.9133>\n",
      "[<0.3358,0.7103>]\n"
     ]
    }
   ],
   "execution_count": 19
  },
  {
   "cell_type": "code",
   "source": [
    "print(mul(t2, n1))\n",
    "print(mul(t2, n2))\n",
    "print(mul(t2, n3))\n",
    "print(mul(t2, n4))"
   ],
   "metadata": {
    "collapsed": false,
    "ExecuteTime": {
     "end_time": "2025-07-08T03:42:13.972541Z",
     "start_time": "2025-07-08T03:42:13.967508Z"
    }
   },
   "outputs": [
    {
     "name": "stdout",
     "output_type": "stream",
     "text": [
      "[[<0.5834,0.5793> <0.0036,0.94> <0.2853,0.75>]\n",
      " [<0.6695,0.5717> <0.3963,0.7128> <0.1754,0.811>]]\n",
      "[[<0.7512,0.2564> <0.0044,0.8939> <0.3599,0.5573>]\n",
      " [<0.4192,0.887> <0.2923,0.8752> <0.1951,0.7492>]]\n",
      "[[<0.5834,0.5793> <0.0036,0.94> <0.2853,0.75>]\n",
      " [<0.6695,0.5717> <0.3963,0.7128> <0.1754,0.811>]]\n",
      "[[<0.8272,0.1275> <0.0056,0.7917> <0.4393,0.3378>]\n",
      " [<0.9044,0.1213> <0.5993,0.2788> <0.2723,0.4538>]]\n"
     ]
    }
   ],
   "execution_count": 20
  },
  {
   "cell_type": "code",
   "source": [
    "print(mul(t3, n1))\n",
    "print(mul(t3, n2))\n",
    "print(mul(t3, n3))\n",
    "print(mul(t3, n4))"
   ],
   "metadata": {
    "collapsed": false,
    "ExecuteTime": {
     "end_time": "2025-07-08T03:42:15.024462Z",
     "start_time": "2025-07-08T03:42:15.020705Z"
    }
   },
   "outputs": [
    {
     "name": "stdout",
     "output_type": "stream",
     "text": [
      "<0.2167,0.9133>\n",
      "[[<0.2931,0.7977> <0.2639,0.8484> <0.274,0.8317>]\n",
      " [<0.1299,0.9807> <0.159,0.9649> <0.241,0.8825>]]\n",
      "<0.2167,0.9133>\n",
      "[<0.3358,0.7103>]\n"
     ]
    }
   ],
   "execution_count": 21
  },
  {
   "cell_type": "code",
   "source": [
    "print(mul(t4, n1))\n",
    "print(mul(t4, n2))\n",
    "print(mul(t4, n3))\n",
    "print(mul(t4, n4))"
   ],
   "metadata": {
    "collapsed": false,
    "ExecuteTime": {
     "end_time": "2025-07-08T03:42:15.635942Z",
     "start_time": "2025-07-08T03:42:15.632009Z"
    }
   },
   "outputs": [
    {
     "name": "stdout",
     "output_type": "stream",
     "text": [
      "[<0.0097,0.8128>]\n",
      "[[<0.0132,0.5966> <0.0118,0.6868> <0.0123,0.6564>]\n",
      " [<0.0058,0.9565> <0.0071,0.9217> <0.0108,0.7515>]]\n",
      "[<0.0097,0.8128>]\n",
      "[<0.0151,0.4576>]\n"
     ]
    }
   ],
   "execution_count": 22
  },
  {
   "cell_type": "markdown",
   "source": [
    "# 除法"
   ],
   "metadata": {
    "collapsed": false
   }
  },
  {
   "cell_type": "code",
   "source": [
    "print(div(t1, t1))\n",
    "print(div(t1, t2))\n",
    "print(div(t1, t3))\n",
    "print(div(t1, t4))"
   ],
   "metadata": {
    "collapsed": false,
    "ExecuteTime": {
     "end_time": "2025-07-08T03:42:16.505733Z",
     "start_time": "2025-07-08T03:42:16.502939Z"
    }
   },
   "outputs": [
    {
     "name": "stdout",
     "output_type": "stream",
     "text": [
      "<1.0,0.0>\n",
      "[[<0.4094,0.6917> <1.0,0.0> <0.7648,0.6775>]\n",
      " [<0.3759,0.6918> <0.5616,0.6846> <1.0,0.0>]]\n",
      "<1.0,0.0>\n",
      "[<1.0,0.0>]\n"
     ]
    }
   ],
   "execution_count": 23
  },
  {
   "cell_type": "code",
   "source": [
    "print(div(t2, t1))\n",
    "print(div(t2, t2))\n",
    "print(div(t2, t3))\n",
    "print(div(t2, t4))"
   ],
   "metadata": {
    "collapsed": false,
    "ExecuteTime": {
     "end_time": "2025-07-08T03:42:17.050002Z",
     "start_time": "2025-07-08T03:42:17.046080Z"
    }
   },
   "outputs": [
    {
     "name": "stdout",
     "output_type": "stream",
     "text": [
      "[[<1.0,0.0> <0.0166,0.5928> <1.0,0.0>]\n",
      " [<1.0,0.0> <1.0,0.0> <1.0,0.0>]]\n",
      "[[<1.0,0.0> <1.0,0.0> <1.0,0.0>]\n",
      " [<1.0,0.0> <1.0,0.0> <1.0,0.0>]]\n",
      "[[<1.0,0.0> <0.0166,0.5928> <1.0,0.0>]\n",
      " [<1.0,0.0> <1.0,0.0> <1.0,0.0>]]\n",
      "[[<1.0,0.0> <0.3675,0.7517> <1.0,0.0>]\n",
      " [<1.0,0.0> <1.0,0.0> <1.0,0.0>]]\n"
     ]
    }
   ],
   "execution_count": 24
  },
  {
   "cell_type": "code",
   "source": [
    "print(div(t3, t1))\n",
    "print(div(t3, t2))\n",
    "print(div(t3, t3))\n",
    "print(div(t3, t4))"
   ],
   "metadata": {
    "collapsed": false,
    "ExecuteTime": {
     "end_time": "2025-07-08T03:42:17.598764Z",
     "start_time": "2025-07-08T03:42:17.595293Z"
    }
   },
   "outputs": [
    {
     "name": "stdout",
     "output_type": "stream",
     "text": [
      "<1.0,0.0>\n",
      "[[<0.4094,0.6917> <1.0,0.0> <0.7648,0.6775>]\n",
      " [<0.3759,0.6918> <0.5616,0.6846> <1.0,0.0>]]\n",
      "<1.0,0.0>\n",
      "[<1.0,0.0>]\n"
     ]
    }
   ],
   "execution_count": 25
  },
  {
   "cell_type": "code",
   "source": [
    "print(div(t4, t1))\n",
    "print(div(t4, t2))\n",
    "print(div(t4, t3))\n",
    "print(div(t4, t4))"
   ],
   "metadata": {
    "collapsed": false,
    "ExecuteTime": {
     "end_time": "2025-07-08T03:42:18.367042Z",
     "start_time": "2025-07-08T03:42:18.363236Z"
    }
   },
   "outputs": [
    {
     "name": "stdout",
     "output_type": "stream",
     "text": [
      "[<1.0,0.0>]\n",
      "[[<0.0184,0.4295> <1.0,0.0> <0.0345,0.3727>]\n",
      " [<0.0169,0.4298> <0.0253,0.4025> <0.0556,0.1329>]]\n",
      "[<1.0,0.0>]\n",
      "[<1.0,0.0>]\n"
     ]
    }
   ],
   "execution_count": 26
  },
  {
   "cell_type": "code",
   "source": [
    "print(div(t1, n1))\n",
    "print(div(t1, n2))\n",
    "print(div(t1, n3))\n",
    "print(div(t1, n4))"
   ],
   "metadata": {
    "collapsed": false,
    "ExecuteTime": {
     "end_time": "2025-07-08T03:42:18.878041Z",
     "start_time": "2025-07-08T03:42:18.874798Z"
    }
   },
   "outputs": [
    {
     "name": "stdout",
     "output_type": "stream",
     "text": [
      "<0.5369,0.2252>\n",
      "[[<0.4026,0.5499> <0.4458,0.4394> <0.4298,0.4802>]\n",
      " [<0.8161,0.001> <0.7032,0.0227> <0.486,0.3392>]]\n",
      "<0.5369,0.2252>\n",
      "[<0.3519,0.6736>]\n"
     ]
    }
   ],
   "execution_count": 27
  },
  {
   "cell_type": "code",
   "source": [
    "print(div(t2, n1))\n",
    "print(div(t2, n2))\n",
    "print(div(t2, n3))\n",
    "print(div(t2, n4))"
   ],
   "metadata": {
    "collapsed": false,
    "ExecuteTime": {
     "end_time": "2025-07-08T03:42:19.551581Z",
     "start_time": "2025-07-08T03:42:19.547811Z"
    }
   },
   "outputs": [
    {
     "name": "stdout",
     "output_type": "stream",
     "text": [
      "[[<0.9911,0.0001> <0.0091,0.3615> <0.6842,0.0088>]\n",
      " [<0.9991,0.0001> <0.8672,0.0038> <0.4397,0.032>]]\n",
      "[[<0.9156,0.0273> <0.0074,0.5705> <0.5572,0.0976>]\n",
      " [<1.0,0.0> <0.9767,0.0> <0.3967,0.0823>]]\n",
      "[[<0.9911,0.0001> <0.0091,0.3615> <0.6842,0.0088>]\n",
      " [<0.9991,0.0001> <0.8672,0.0038> <0.4397,0.032>]]\n",
      "[[<0.8521,0.0927> <0.0058,0.7636> <0.4599,0.2855>]\n",
      " [<0.924,0.0875> <0.6251,0.2287> <0.2855,0.4015>]]\n"
     ]
    }
   ],
   "execution_count": 28
  },
  {
   "cell_type": "code",
   "source": [
    "print(div(t3, n1))\n",
    "print(div(t3, n2))\n",
    "print(div(t3, n3))\n",
    "print(div(t3, n4))"
   ],
   "metadata": {
    "collapsed": false,
    "ExecuteTime": {
     "end_time": "2025-07-08T03:42:20.147685Z",
     "start_time": "2025-07-08T03:42:20.144072Z"
    }
   },
   "outputs": [
    {
     "name": "stdout",
     "output_type": "stream",
     "text": [
      "<0.5369,0.2252>\n",
      "[[<0.4026,0.5499> <0.4458,0.4394> <0.4298,0.4802>]\n",
      " [<0.8161,0.001> <0.7032,0.0227> <0.486,0.3392>]]\n",
      "<0.5369,0.2252>\n",
      "[<0.3519,0.6736>]\n"
     ]
    }
   ],
   "execution_count": 29
  },
  {
   "cell_type": "code",
   "source": [
    "print(div(t4, n1))\n",
    "print(div(t4, n2))\n",
    "print(div(t4, n3))\n",
    "print(div(t4, n4))"
   ],
   "metadata": {
    "collapsed": false,
    "ExecuteTime": {
     "end_time": "2025-07-08T03:42:20.835946Z",
     "start_time": "2025-07-08T03:42:20.832091Z"
    }
   },
   "outputs": [
    {
     "name": "stdout",
     "output_type": "stream",
     "text": [
      "[<0.0247,0.0332>]\n",
      "[[<0.0182,0.255> <0.0203,0.1528> <0.0195,0.1871>]\n",
      " [<0.0413,0.0> <0.0337,0.0002> <0.0222,0.0846>]]\n",
      "[<0.0247,0.0332>]\n",
      "[<0.0159,0.4054>]\n"
     ]
    }
   ],
   "execution_count": 30
  },
  {
   "cell_type": "markdown",
   "source": [
    "# 幂运算"
   ],
   "metadata": {
    "collapsed": false
   }
  },
  {
   "cell_type": "code",
   "source": [
    "print(pow(t1, n1))\n",
    "print(pow(t1, n2))\n",
    "print(pow(t1, n3))\n",
    "print(pow(t1, n4))"
   ],
   "metadata": {
    "collapsed": false,
    "ExecuteTime": {
     "end_time": "2025-07-08T03:42:22.149040Z",
     "start_time": "2025-07-08T03:42:22.145826Z"
    }
   },
   "outputs": [
    {
     "name": "stdout",
     "output_type": "stream",
     "text": [
      "<0.7685,0.4558>\n",
      "[[<0.5187,0.6033> <0.6204,0.5485> <0.5856,0.5677>]\n",
      " [<0.9451,0.2763> <0.9015,0.3374> <0.6955,0.5042>]]\n",
      "<0.7685,0.4558>\n",
      "[<0.3703,0.6789>]\n"
     ]
    }
   ],
   "execution_count": 31
  },
  {
   "cell_type": "code",
   "source": [
    "print(pow(t2, n1))\n",
    "print(pow(t2, n2))\n",
    "print(pow(t2, n3))\n",
    "print(pow(t2, n4))"
   ],
   "metadata": {
    "collapsed": false,
    "ExecuteTime": {
     "end_time": "2025-07-08T03:42:22.749067Z",
     "start_time": "2025-07-08T03:42:22.744662Z"
    }
   },
   "outputs": [
    {
     "name": "stdout",
     "output_type": "stream",
     "text": [
      "[[<0.9578,0.0686> <0.2795,0.5258> <0.821,0.1961>]\n",
      " [<0.9782,0.065> <0.886,0.1593> <0.7298,0.271>]]\n",
      "[[<0.8982,0.093> <0.0992,0.6281> <0.6698,0.248>]\n",
      " [<0.9953,0.0389> <0.9535,0.1168> <0.6477,0.3012>]]\n",
      "[[<0.9578,0.0686> <0.2795,0.5258> <0.821,0.1961>]\n",
      " [<0.9782,0.065> <0.886,0.1593> <0.7298,0.271>]]\n",
      "[[<0.85,0.1067> <0.0082,0.7646> <0.4752,0.3042>]\n",
      " [<0.9201,0.1012> <0.6334,0.2475> <0.3047,0.418>]]\n"
     ]
    }
   ],
   "execution_count": 32
  },
  {
   "cell_type": "code",
   "source": [
    "print(pow(t3, n1))\n",
    "print(pow(t3, n2))\n",
    "print(pow(t3, n3))\n",
    "print(pow(t3, n4))"
   ],
   "metadata": {
    "collapsed": false,
    "ExecuteTime": {
     "end_time": "2025-07-08T03:42:23.314999Z",
     "start_time": "2025-07-08T03:42:23.311498Z"
    }
   },
   "outputs": [
    {
     "name": "stdout",
     "output_type": "stream",
     "text": [
      "<0.7685,0.4558>\n",
      "[[<0.5187,0.6033> <0.6204,0.5485> <0.5856,0.5677>]\n",
      " [<0.9451,0.2763> <0.9015,0.3374> <0.6955,0.5042>]]\n",
      "<0.7685,0.4558>\n",
      "[<0.3703,0.6789>]\n"
     ]
    }
   ],
   "execution_count": 33
  },
  {
   "cell_type": "code",
   "source": [
    "print(pow(t4, n1))\n",
    "print(pow(t4, n2))\n",
    "print(pow(t4, n3))\n",
    "print(pow(t4, n4))"
   ],
   "metadata": {
    "collapsed": false,
    "ExecuteTime": {
     "end_time": "2025-07-08T03:42:23.821112Z",
     "start_time": "2025-07-08T03:42:23.817971Z"
    }
   },
   "outputs": [
    {
     "name": "stdout",
     "output_type": "stream",
     "text": [
      "[<0.3577,0.2736>]\n",
      "[[<0.0771,0.369> <0.1551,0.3326> <0.1238,0.3453>]\n",
      " [<0.8022,0.1642> <0.6672,0.2009> <0.2424,0.3041>]]\n",
      "[<0.3577,0.2736>]\n",
      "[<0.0207,0.4218>]\n"
     ]
    }
   ],
   "execution_count": 34
  },
  {
   "cell_type": "markdown",
   "source": [
    "# 等于"
   ],
   "metadata": {
    "collapsed": false
   }
  },
  {
   "cell_type": "code",
   "source": [
    "print(equal(t1, t1))\n",
    "print(equal(t1, t2))\n",
    "print(equal(t1, t3))\n",
    "print(equal(t1, t4))"
   ],
   "metadata": {
    "collapsed": false,
    "ExecuteTime": {
     "end_time": "2025-07-08T03:42:24.886831Z",
     "start_time": "2025-07-08T03:42:24.883827Z"
    }
   },
   "outputs": [
    {
     "name": "stdout",
     "output_type": "stream",
     "text": [
      "True\n",
      "[[False False False]\n",
      " [False False False]]\n",
      "True\n",
      "[False]\n"
     ]
    }
   ],
   "execution_count": 35
  },
  {
   "cell_type": "code",
   "source": [
    "print(equal(t2, t1))\n",
    "print(equal(t2, t2))\n",
    "print(equal(t2, t3))\n",
    "print(equal(t2, t4))"
   ],
   "metadata": {
    "collapsed": false,
    "ExecuteTime": {
     "end_time": "2025-07-08T03:42:25.465685Z",
     "start_time": "2025-07-08T03:42:25.462578Z"
    }
   },
   "outputs": [
    {
     "name": "stdout",
     "output_type": "stream",
     "text": [
      "[[False False False]\n",
      " [False False False]]\n",
      "[[ True  True  True]\n",
      " [ True  True  True]]\n",
      "[[False False False]\n",
      " [False False False]]\n",
      "[[False False False]\n",
      " [False False False]]\n"
     ]
    }
   ],
   "execution_count": 36
  },
  {
   "cell_type": "code",
   "source": [
    "print(equal(t3, t1))\n",
    "print(equal(t3, t2))\n",
    "print(equal(t3, t3))\n",
    "print(equal(t3, t4))"
   ],
   "metadata": {
    "collapsed": false,
    "ExecuteTime": {
     "end_time": "2025-07-08T03:42:28.120587Z",
     "start_time": "2025-07-08T03:42:28.117230Z"
    }
   },
   "outputs": [
    {
     "name": "stdout",
     "output_type": "stream",
     "text": [
      "True\n",
      "[[False False False]\n",
      " [False False False]]\n",
      "True\n",
      "[False]\n"
     ]
    }
   ],
   "execution_count": 37
  },
  {
   "cell_type": "code",
   "source": [
    "print(equal(t4, t1))\n",
    "print(equal(t4, t2))\n",
    "print(equal(t4, t3))\n",
    "print(equal(t4, t4))"
   ],
   "metadata": {
    "collapsed": false,
    "ExecuteTime": {
     "end_time": "2025-07-08T03:42:28.664716Z",
     "start_time": "2025-07-08T03:42:28.662042Z"
    }
   },
   "outputs": [
    {
     "name": "stdout",
     "output_type": "stream",
     "text": [
      "[False]\n",
      "[[False False False]\n",
      " [False False False]]\n",
      "[False]\n",
      "[ True]\n"
     ]
    }
   ],
   "execution_count": 38
  },
  {
   "cell_type": "markdown",
   "source": [
    "# 不等"
   ],
   "metadata": {
    "collapsed": false
   }
  },
  {
   "cell_type": "code",
   "source": [
    "print(inequal(t1, t1))\n",
    "print(inequal(t1, t2))\n",
    "print(inequal(t1, t3))\n",
    "print(inequal(t1, t4))"
   ],
   "metadata": {
    "collapsed": false,
    "ExecuteTime": {
     "end_time": "2025-07-08T03:42:29.795411Z",
     "start_time": "2025-07-08T03:42:29.793106Z"
    }
   },
   "outputs": [
    {
     "name": "stdout",
     "output_type": "stream",
     "text": [
      "False\n",
      "[[ True  True  True]\n",
      " [ True  True  True]]\n",
      "False\n",
      "[ True]\n"
     ]
    }
   ],
   "execution_count": 39
  },
  {
   "cell_type": "code",
   "source": [
    "print(inequal(t2, t1))\n",
    "print(inequal(t2, t2))\n",
    "print(inequal(t2, t3))\n",
    "print(inequal(t2, t4))"
   ],
   "metadata": {
    "collapsed": false,
    "ExecuteTime": {
     "end_time": "2025-07-08T03:42:30.284485Z",
     "start_time": "2025-07-08T03:42:30.281349Z"
    }
   },
   "outputs": [
    {
     "name": "stdout",
     "output_type": "stream",
     "text": [
      "[[ True  True  True]\n",
      " [ True  True  True]]\n",
      "[[False False False]\n",
      " [False False False]]\n",
      "[[ True  True  True]\n",
      " [ True  True  True]]\n",
      "[[ True  True  True]\n",
      " [ True  True  True]]\n"
     ]
    }
   ],
   "execution_count": 40
  },
  {
   "cell_type": "code",
   "source": [
    "print(inequal(t3, t1))\n",
    "print(inequal(t3, t2))\n",
    "print(inequal(t3, t3))\n",
    "print(inequal(t3, t4))"
   ],
   "metadata": {
    "collapsed": false,
    "ExecuteTime": {
     "end_time": "2025-07-08T03:42:30.768111Z",
     "start_time": "2025-07-08T03:42:30.765269Z"
    }
   },
   "outputs": [
    {
     "name": "stdout",
     "output_type": "stream",
     "text": [
      "False\n",
      "[[ True  True  True]\n",
      " [ True  True  True]]\n",
      "False\n",
      "[ True]\n"
     ]
    }
   ],
   "execution_count": 41
  },
  {
   "cell_type": "code",
   "source": [
    "print(inequal(t4, t1))\n",
    "print(inequal(t4, t2))\n",
    "print(inequal(t4, t3))\n",
    "print(inequal(t4, t4))"
   ],
   "metadata": {
    "collapsed": false,
    "ExecuteTime": {
     "end_time": "2025-07-08T03:42:31.249016Z",
     "start_time": "2025-07-08T03:42:31.246092Z"
    }
   },
   "outputs": [
    {
     "name": "stdout",
     "output_type": "stream",
     "text": [
      "[ True]\n",
      "[[ True  True  True]\n",
      " [ True  True  True]]\n",
      "[ True]\n",
      "[False]\n"
     ]
    }
   ],
   "execution_count": 42
  },
  {
   "cell_type": "markdown",
   "source": [
    "# 小于"
   ],
   "metadata": {
    "collapsed": false
   }
  },
  {
   "cell_type": "code",
   "source": [
    "print(lt(t1, t1))\n",
    "print(lt(t1, t2))\n",
    "print(lt(t1, t3))\n",
    "print(lt(t1, t4))"
   ],
   "metadata": {
    "collapsed": false,
    "ExecuteTime": {
     "end_time": "2025-07-08T03:42:32.199663Z",
     "start_time": "2025-07-08T03:42:32.197014Z"
    }
   },
   "outputs": [
    {
     "name": "stdout",
     "output_type": "stream",
     "text": [
      "False\n",
      "[[ True False  True]\n",
      " [ True  True  True]]\n",
      "False\n",
      "[ True]\n"
     ]
    }
   ],
   "execution_count": 43
  },
  {
   "cell_type": "code",
   "source": [
    "print(lt(t2, t1))\n",
    "print(lt(t2, t2))\n",
    "print(lt(t2, t3))\n",
    "print(lt(t2, t4))"
   ],
   "metadata": {
    "collapsed": false,
    "ExecuteTime": {
     "end_time": "2025-07-08T03:42:32.584131Z",
     "start_time": "2025-07-08T03:42:32.580893Z"
    }
   },
   "outputs": [
    {
     "name": "stdout",
     "output_type": "stream",
     "text": [
      "[[False  True False]\n",
      " [False False False]]\n",
      "[[False False False]\n",
      " [False False False]]\n",
      "[[False  True False]\n",
      " [False False False]]\n",
      "[[False  True False]\n",
      " [False False False]]\n"
     ]
    }
   ],
   "execution_count": 44
  },
  {
   "cell_type": "code",
   "source": [
    "print(lt(t3, t1))\n",
    "print(lt(t3, t2))\n",
    "print(lt(t3, t3))\n",
    "print(lt(t3, t4))"
   ],
   "metadata": {
    "collapsed": false,
    "ExecuteTime": {
     "end_time": "2025-07-08T03:42:32.955641Z",
     "start_time": "2025-07-08T03:42:32.952731Z"
    }
   },
   "outputs": [
    {
     "name": "stdout",
     "output_type": "stream",
     "text": [
      "False\n",
      "[[ True False  True]\n",
      " [ True  True  True]]\n",
      "False\n",
      "[ True]\n"
     ]
    }
   ],
   "execution_count": 45
  },
  {
   "cell_type": "code",
   "source": [
    "print(lt(t4, t1))\n",
    "print(lt(t4, t2))\n",
    "print(lt(t4, t3))\n",
    "print(lt(t4, t4))"
   ],
   "metadata": {
    "collapsed": false,
    "ExecuteTime": {
     "end_time": "2025-07-08T03:42:33.346798Z",
     "start_time": "2025-07-08T03:42:33.344275Z"
    }
   },
   "outputs": [
    {
     "name": "stdout",
     "output_type": "stream",
     "text": [
      "[False]\n",
      "[[ True False  True]\n",
      " [ True  True  True]]\n",
      "[False]\n",
      "[False]\n"
     ]
    }
   ],
   "execution_count": 46
  },
  {
   "cell_type": "markdown",
   "source": [
    "# 大于"
   ],
   "metadata": {
    "collapsed": false
   }
  },
  {
   "cell_type": "code",
   "source": [
    "print(gt(t1, t1))\n",
    "print(gt(t1, t2))\n",
    "print(gt(t1, t3))\n",
    "print(gt(t1, t4))"
   ],
   "metadata": {
    "collapsed": false,
    "ExecuteTime": {
     "end_time": "2025-07-08T03:42:34.121586Z",
     "start_time": "2025-07-08T03:42:34.119011Z"
    }
   },
   "outputs": [
    {
     "name": "stdout",
     "output_type": "stream",
     "text": [
      "False\n",
      "[[False  True False]\n",
      " [False False False]]\n",
      "False\n",
      "[False]\n"
     ]
    }
   ],
   "execution_count": 47
  },
  {
   "cell_type": "code",
   "source": [
    "print(gt(t2, t1))\n",
    "print(gt(t2, t2))\n",
    "print(gt(t2, t3))\n",
    "print(gt(t2, t4))"
   ],
   "metadata": {
    "collapsed": false,
    "ExecuteTime": {
     "end_time": "2025-07-08T03:42:34.450742Z",
     "start_time": "2025-07-08T03:42:34.447385Z"
    }
   },
   "outputs": [
    {
     "name": "stdout",
     "output_type": "stream",
     "text": [
      "[[ True False  True]\n",
      " [ True  True  True]]\n",
      "[[False False False]\n",
      " [False False False]]\n",
      "[[ True False  True]\n",
      " [ True  True  True]]\n",
      "[[ True False  True]\n",
      " [ True  True  True]]\n"
     ]
    }
   ],
   "execution_count": 48
  },
  {
   "cell_type": "code",
   "source": [
    "print(gt(t3, t1))\n",
    "print(gt(t3, t2))\n",
    "print(gt(t3, t3))\n",
    "print(gt(t3, t4))"
   ],
   "metadata": {
    "collapsed": false,
    "ExecuteTime": {
     "end_time": "2025-07-08T03:42:34.757243Z",
     "start_time": "2025-07-08T03:42:34.754445Z"
    }
   },
   "outputs": [
    {
     "name": "stdout",
     "output_type": "stream",
     "text": [
      "False\n",
      "[[False  True False]\n",
      " [False False False]]\n",
      "False\n",
      "[False]\n"
     ]
    }
   ],
   "execution_count": 49
  },
  {
   "cell_type": "code",
   "source": [
    "print(gt(t4, t1))\n",
    "print(gt(t4, t2))\n",
    "print(gt(t4, t3))\n",
    "print(gt(t4, t4))"
   ],
   "metadata": {
    "collapsed": false,
    "ExecuteTime": {
     "end_time": "2025-07-08T03:42:35.075104Z",
     "start_time": "2025-07-08T03:42:35.072405Z"
    }
   },
   "outputs": [
    {
     "name": "stdout",
     "output_type": "stream",
     "text": [
      "[ True]\n",
      "[[False  True False]\n",
      " [False False False]]\n",
      "[ True]\n",
      "[False]\n"
     ]
    }
   ],
   "execution_count": 50
  },
  {
   "cell_type": "markdown",
   "source": [
    "# 小于等于"
   ],
   "metadata": {
    "collapsed": false
   }
  },
  {
   "cell_type": "code",
   "source": [
    "print(le(t1, t1))\n",
    "print(le(t1, t2))\n",
    "print(le(t1, t3))\n",
    "print(le(t1, t4))"
   ],
   "metadata": {
    "collapsed": false,
    "ExecuteTime": {
     "end_time": "2025-07-08T03:42:35.793925Z",
     "start_time": "2025-07-08T03:42:35.791370Z"
    }
   },
   "outputs": [
    {
     "name": "stdout",
     "output_type": "stream",
     "text": [
      "True\n",
      "[[ True False  True]\n",
      " [ True  True  True]]\n",
      "True\n",
      "[ True]\n"
     ]
    }
   ],
   "execution_count": 51
  },
  {
   "cell_type": "code",
   "source": [
    "print(le(t2, t1))\n",
    "print(le(t2, t2))\n",
    "print(le(t2, t3))\n",
    "print(le(t2, t4))"
   ],
   "metadata": {
    "collapsed": false,
    "ExecuteTime": {
     "end_time": "2025-07-08T03:42:36.096680Z",
     "start_time": "2025-07-08T03:42:36.094124Z"
    }
   },
   "outputs": [
    {
     "name": "stdout",
     "output_type": "stream",
     "text": [
      "[[False  True False]\n",
      " [False False False]]\n",
      "[[ True  True  True]\n",
      " [ True  True  True]]\n",
      "[[False  True False]\n",
      " [False False False]]\n",
      "[[False  True False]\n",
      " [False False False]]\n"
     ]
    }
   ],
   "execution_count": 52
  },
  {
   "cell_type": "code",
   "source": [
    "print(le(t3, t1))\n",
    "print(le(t3, t2))\n",
    "print(le(t3, t3))\n",
    "print(le(t3, t4))"
   ],
   "metadata": {
    "collapsed": false,
    "ExecuteTime": {
     "end_time": "2025-07-08T03:42:36.392573Z",
     "start_time": "2025-07-08T03:42:36.389813Z"
    }
   },
   "outputs": [
    {
     "name": "stdout",
     "output_type": "stream",
     "text": [
      "True\n",
      "[[ True False  True]\n",
      " [ True  True  True]]\n",
      "True\n",
      "[ True]\n"
     ]
    }
   ],
   "execution_count": 53
  },
  {
   "cell_type": "code",
   "source": [
    "print(le(t4, t1))\n",
    "print(le(t4, t2))\n",
    "print(le(t4, t3))\n",
    "print(le(t4, t4))"
   ],
   "metadata": {
    "collapsed": false,
    "ExecuteTime": {
     "end_time": "2025-07-08T03:42:36.786027Z",
     "start_time": "2025-07-08T03:42:36.782701Z"
    }
   },
   "outputs": [
    {
     "name": "stdout",
     "output_type": "stream",
     "text": [
      "[False]\n",
      "[[ True False  True]\n",
      " [ True  True  True]]\n",
      "[False]\n",
      "[ True]\n"
     ]
    }
   ],
   "execution_count": 54
  },
  {
   "cell_type": "markdown",
   "source": [
    "# 大于等于"
   ],
   "metadata": {
    "collapsed": false
   }
  },
  {
   "cell_type": "code",
   "source": [
    "print(ge(t1, t1))\n",
    "print(ge(t1, t2))\n",
    "print(ge(t1, t3))\n",
    "print(ge(t1, t4))"
   ],
   "metadata": {
    "collapsed": false,
    "ExecuteTime": {
     "end_time": "2025-07-08T03:42:37.539550Z",
     "start_time": "2025-07-08T03:42:37.537055Z"
    }
   },
   "outputs": [
    {
     "name": "stdout",
     "output_type": "stream",
     "text": [
      "True\n",
      "[[False  True False]\n",
      " [False False False]]\n",
      "True\n",
      "[False]\n"
     ]
    }
   ],
   "execution_count": 55
  },
  {
   "cell_type": "code",
   "source": [
    "print(ge(t2, t1))\n",
    "print(ge(t2, t2))\n",
    "print(ge(t2, t3))\n",
    "print(ge(t2, t4))"
   ],
   "metadata": {
    "collapsed": false,
    "ExecuteTime": {
     "end_time": "2025-07-08T03:42:37.772320Z",
     "start_time": "2025-07-08T03:42:37.769294Z"
    }
   },
   "outputs": [
    {
     "name": "stdout",
     "output_type": "stream",
     "text": [
      "[[ True False  True]\n",
      " [ True  True  True]]\n",
      "[[ True  True  True]\n",
      " [ True  True  True]]\n",
      "[[ True False  True]\n",
      " [ True  True  True]]\n",
      "[[ True False  True]\n",
      " [ True  True  True]]\n"
     ]
    }
   ],
   "execution_count": 56
  },
  {
   "cell_type": "code",
   "source": [
    "print(ge(t3, t1))\n",
    "print(ge(t3, t2))\n",
    "print(ge(t3, t3))\n",
    "print(ge(t3, t4))"
   ],
   "metadata": {
    "collapsed": false,
    "ExecuteTime": {
     "end_time": "2025-07-08T03:42:37.995602Z",
     "start_time": "2025-07-08T03:42:37.993257Z"
    }
   },
   "outputs": [
    {
     "name": "stdout",
     "output_type": "stream",
     "text": [
      "True\n",
      "[[False  True False]\n",
      " [False False False]]\n",
      "True\n",
      "[False]\n"
     ]
    }
   ],
   "execution_count": 57
  },
  {
   "cell_type": "code",
   "source": [
    "print(ge(t4, t1))\n",
    "print(ge(t4, t2))\n",
    "print(ge(t4, t3))\n",
    "print(ge(t4, t4))"
   ],
   "metadata": {
    "collapsed": false,
    "ExecuteTime": {
     "end_time": "2025-07-08T03:42:38.204591Z",
     "start_time": "2025-07-08T03:42:38.202247Z"
    }
   },
   "outputs": [
    {
     "name": "stdout",
     "output_type": "stream",
     "text": [
      "[ True]\n",
      "[[False  True False]\n",
      " [False False False]]\n",
      "[ True]\n",
      "[ True]\n"
     ]
    }
   ],
   "execution_count": 58
  },
  {
   "cell_type": "code",
   "source": [],
   "metadata": {
    "collapsed": false,
    "ExecuteTime": {
     "end_time": "2025-07-08T03:42:38.464294Z",
     "start_time": "2025-07-08T03:42:38.462585Z"
    }
   },
   "outputs": [],
   "execution_count": null
  },
  {
   "cell_type": "code",
   "source": [],
   "metadata": {
    "collapsed": false,
    "ExecuteTime": {
     "end_time": "2025-07-08T03:42:38.814938Z",
     "start_time": "2025-07-08T03:42:38.813295Z"
    }
   },
   "outputs": [],
   "execution_count": null
  },
  {
   "metadata": {},
   "cell_type": "code",
   "outputs": [],
   "execution_count": null,
   "source": ""
  }
 ],
 "metadata": {
  "kernelspec": {
   "display_name": "Python 3",
   "language": "python",
   "name": "python3"
  },
  "language_info": {
   "codemirror_mode": {
    "name": "ipython",
    "version": 2
   },
   "file_extension": ".py",
   "mimetype": "text/x-python",
   "name": "python",
   "nbconvert_exporter": "python",
   "pygments_lexer": "ipython2",
   "version": "2.7.6"
  }
 },
 "nbformat": 4,
 "nbformat_minor": 0
}
