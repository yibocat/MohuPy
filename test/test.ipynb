{
 "cells": [
  {
   "metadata": {
    "ExecuteTime": {
     "end_time": "2025-07-08T08:12:57.411918Z",
     "start_time": "2025-07-08T08:12:56.849818Z"
    }
   },
   "cell_type": "code",
   "source": [
    "import numpy as np\n",
    "import mohupy as mp"
   ],
   "id": "cf11668336da45b4",
   "outputs": [],
   "execution_count": 1
  },
  {
   "metadata": {
    "ExecuteTime": {
     "end_time": "2025-07-08T08:12:57.822460Z",
     "start_time": "2025-07-08T08:12:57.819175Z"
    }
   },
   "cell_type": "code",
   "source": "fuzz_directory = mp.Registry()",
   "id": "b97a211c47e35b8",
   "outputs": [],
   "execution_count": 2
  },
  {
   "metadata": {
    "ExecuteTime": {
     "end_time": "2025-07-08T08:12:58.055051Z",
     "start_time": "2025-07-08T08:12:58.050899Z"
    }
   },
   "cell_type": "code",
   "source": [
    "class Template:\n",
    "\n",
    "    def __init__(self, *fuzz_param):\n",
    "        self.fuzz_param = fuzz_param\n",
    "\n",
    "    # 模糊属性库\n",
    "    def report(self): raise NotImplementedError()\n",
    "    def str(self): raise NotImplementedError()\n",
    "    def score(self): raise NotImplementedError()\n",
    "    def accuracy(self): raise NotImplementedError()\n",
    "    def indeterminacy(self): raise NotImplementedError()\n",
    "    def complement(self): raise NotImplementedError()\n",
    "\n",
    "    # 模糊方法函数库\n",
    "    def initialize(self): raise NotImplementedError()\n",
    "    def validity(self): raise NotImplementedError()\n",
    "    def empty(self): raise NotImplementedError()\n",
    "    def convert(self): raise NotImplementedError()\n",
    "    def qsort(self): raise NotImplementedError()\n",
    "    def unique(self): raise NotImplementedError()\n",
    "    def normalize(self): raise NotImplementedError()"
   ],
   "id": "10b9b77859d78259",
   "outputs": [],
   "execution_count": 3
  },
  {
   "metadata": {
    "ExecuteTime": {
     "end_time": "2025-07-08T08:12:58.447150Z",
     "start_time": "2025-07-08T08:12:58.444483Z"
    }
   },
   "cell_type": "code",
   "source": [
    "@fuzz_directory('qrofn')\n",
    "class QROFN(Template):\n",
    "    def report(self):\n",
    "        return f'<{np.round(self.fuzz_param[0], 4)},{np.round(self.fuzz_param[1], 4)}>'"
   ],
   "id": "fc15b73c95ed607b",
   "outputs": [],
   "execution_count": 4
  },
  {
   "metadata": {
    "ExecuteTime": {
     "end_time": "2025-07-08T08:12:59.032477Z",
     "start_time": "2025-07-08T08:12:59.030224Z"
    }
   },
   "cell_type": "code",
   "source": [
    "@fuzz_directory('qrohfn')\n",
    "class QROHFN(Template):\n",
    "   def report(self): return \"this is a qrohfn report\""
   ],
   "id": "656ad03db632825",
   "outputs": [],
   "execution_count": 5
  },
  {
   "metadata": {
    "ExecuteTime": {
     "end_time": "2025-07-08T08:13:00.185906Z",
     "start_time": "2025-07-08T08:13:00.183895Z"
    }
   },
   "cell_type": "code",
   "source": "",
   "id": "a0a85060d52e9296",
   "outputs": [],
   "execution_count": null
  },
  {
   "metadata": {
    "ExecuteTime": {
     "end_time": "2025-07-08T10:03:08.762157Z",
     "start_time": "2025-07-08T10:03:08.757194Z"
    }
   },
   "cell_type": "code",
   "source": [
    "mtype = 'qrofn'\n",
    "fuzz_p = (0.4,0.25)"
   ],
   "id": "7d522212320f8d82",
   "outputs": [],
   "execution_count": 10
  },
  {
   "metadata": {
    "ExecuteTime": {
     "end_time": "2025-07-08T10:03:09.181692Z",
     "start_time": "2025-07-08T10:03:09.173876Z"
    }
   },
   "cell_type": "code",
   "source": "fuzz_directory[mtype](*fuzz_p).report()",
   "id": "e955c5b7e8018b6e",
   "outputs": [
    {
     "data": {
      "text/plain": [
       "'<0.4,0.25>'"
      ]
     },
     "execution_count": 11,
     "metadata": {},
     "output_type": "execute_result"
    }
   ],
   "execution_count": 11
  },
  {
   "metadata": {},
   "cell_type": "code",
   "source": "",
   "id": "d2f69f013a75b4f3",
   "outputs": [],
   "execution_count": null
  },
  {
   "metadata": {},
   "cell_type": "code",
   "source": "",
   "id": "6618b09f8fb4c250",
   "outputs": [],
   "execution_count": null
  },
  {
   "metadata": {},
   "cell_type": "code",
   "source": "",
   "id": "71a9471d617e3932",
   "outputs": [],
   "execution_count": null
  },
  {
   "metadata": {},
   "cell_type": "code",
   "source": "",
   "id": "2bd7106d54ec225e",
   "outputs": [],
   "execution_count": null
  }
 ],
 "metadata": {
  "kernelspec": {
   "display_name": "Python 3",
   "language": "python",
   "name": "python3"
  },
  "language_info": {
   "codemirror_mode": {
    "name": "ipython",
    "version": 3
   },
   "file_extension": ".py",
   "mimetype": "text/x-python",
   "name": "python",
   "nbconvert_exporter": "python",
   "pygments_lexer": "ipython3",
   "version": "3.10.9"
  }
 },
 "nbformat": 4,
 "nbformat_minor": 5
}
